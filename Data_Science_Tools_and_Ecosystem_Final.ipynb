{
 "cells": [
  {
   "cell_type": "markdown",
   "id": "db61145d",
   "metadata": {},
   "source": [
    "# Data Science Tools and Ecosystem"
   ]
  },
  {
   "cell_type": "markdown",
   "id": "2b158a33",
   "metadata": {},
   "source": [
    "## Introduction\n",
    "This notebook covers the basics of Data Science tools and ecosystem. It includes lists of programming languages, libraries, and tools commonly used in Data Science. Additionally, it demonstrates arithmetic expressions and simple unit conversions using Python."
   ]
  },
  {
   "cell_type": "markdown",
   "id": "01f24b0c",
   "metadata": {},
   "source": [
    "## Data Science Languages\n",
    "- Python\n",
    "- R\n",
    "- SQL\n",
    "- Java\n",
    "- Julia"
   ]
  },
  {
   "cell_type": "markdown",
   "id": "e60086d9",
   "metadata": {},
   "source": [
    "## Data Science Libraries\n",
    "- Pandas\n",
    "- NumPy\n",
    "- Matplotlib\n",
    "- Seaborn\n",
    "- Scikit-learn\n",
    "- TensorFlow\n",
    "- Keras"
   ]
  },
  {
   "cell_type": "markdown",
   "id": "c3db48cd",
   "metadata": {},
   "source": [
    "## Data Science Tools\n",
    "\n",
    "| Tool              | Category             |\n",
    "|-------------------|----------------------|\n",
    "| Jupyter Notebook  | Interactive IDE      |\n",
    "| RStudio           | IDE for R            |\n",
    "| Apache Spark      | Big Data Processing  |\n",
    "| TensorFlow        | Machine Learning     |\n",
    "| Tableau           | Data Visualization   |"
   ]
  },
  {
   "cell_type": "markdown",
   "id": "d84659d8",
   "metadata": {},
   "source": [
    "## Arithmetic Expression Examples\n",
    "Examples of evaluating arithmetic expressions in Python."
   ]
  },
  {
   "cell_type": "code",
   "execution_count": null,
   "id": "d1c1c884",
   "metadata": {},
   "outputs": [],
   "source": [
    "# This is a simple arithmetic expression to multiply then add integers\n",
    "(3*4)+5"
   ]
  },
  {
   "cell_type": "code",
   "execution_count": null,
   "id": "2f2bf22f",
   "metadata": {},
   "outputs": [],
   "source": [
    "# This will convert 200 minutes to hours by dividing by 60\n",
    "200/60"
   ]
  },
  {
   "cell_type": "markdown",
   "id": "d55beb94",
   "metadata": {},
   "source": [
    "## Objectives\n",
    "In this notebook you will learn to:\n",
    "- List popular languages for Data Science\n",
    "- Identify commonly used libraries in Data Science\n",
    "- Create a table of Data Science tools\n",
    "- Perform simple arithmetic operations in Python\n",
    "- Convert minutes into hours using Python code"
   ]
  },
  {
   "cell_type": "markdown",
   "id": "c96ded32",
   "metadata": {},
   "source": [
    "## Author\n",
    "Brent Vincent Delos Reyes"
   ]
  },
  {
   "cell_type": "markdown",
   "id": "85a76078",
   "metadata": {},
   "source": [
    "## GitHub\n",
    "This notebook will be shared through GitHub as part of the submission process."
   ]
  },
  {
   "cell_type": "markdown",
   "id": "55c6137f",
   "metadata": {},
   "source": [
    "## Screenshot\n",
    "A screenshot of the first page of this notebook will be provided separately as per instructions."
   ]
  }
 ],
 "metadata": {},
 "nbformat": 4,
 "nbformat_minor": 5
}
