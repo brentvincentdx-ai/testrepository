{
 "cells": [
  {
   "cell_type": "markdown",
   "id": "779066e5",
   "metadata": {},
   "source": [
    "# Final Project: Data Science Tools and Ecosystem"
   ]
  },
  {
   "cell_type": "markdown",
   "id": "5d367827",
   "metadata": {},
   "source": [
    "## Introduction\n",
    "In this notebook, we will summarize key concepts of Data Science, including programming languages, libraries, and tools. We will also demonstrate simple arithmetic operations using Python."
   ]
  },
  {
   "cell_type": "markdown",
   "id": "b25c0654",
   "metadata": {},
   "source": [
    "## Data Science Languages\n",
    "Some of the popular languages used by Data Scientists include:\n",
    "- Python\n",
    "- R\n",
    "- SQL\n",
    "- Julia"
   ]
  },
  {
   "cell_type": "markdown",
   "id": "ddf126ce",
   "metadata": {},
   "source": [
    "## Data Science Libraries\n",
    "Some of the commonly used libraries in Data Science are:\n",
    "- Pandas\n",
    "- NumPy\n",
    "- Matplotlib\n",
    "- Scikit-learn\n",
    "- TensorFlow\n",
    "- Keras"
   ]
  },
  {
   "cell_type": "markdown",
   "id": "04046ef6",
   "metadata": {},
   "source": [
    "## Data Science Tools\n",
    "| Tool | Description |\n",
    "|------|-------------|\n",
    "| Jupyter Notebook | Interactive coding environment |\n",
    "| RStudio | IDE for R programming |\n",
    "| Apache Spark | Big data processing framework |\n",
    "| TensorFlow | Deep learning framework |"
   ]
  },
  {
   "cell_type": "markdown",
   "id": "97667ea9",
   "metadata": {},
   "source": [
    "## Arithmetic Expressions Examples\n",
    "Below are some examples of arithmetic expressions in Python."
   ]
  },
  {
   "cell_type": "code",
   "execution_count": null,
   "id": "089b93ce",
   "metadata": {},
   "outputs": [],
   "source": [
    "## This is a simple arithmetic expression to multiply then add integers\n",
    "(3*4)+5"
   ]
  },
  {
   "cell_type": "code",
   "execution_count": null,
   "id": "59dfd9be",
   "metadata": {},
   "outputs": [],
   "source": [
    "## This will convert 200 minutes to hours by dividing by 60\n",
    "200 / 60"
   ]
  },
  {
   "cell_type": "markdown",
   "id": "540d595a",
   "metadata": {},
   "source": [
    "## Objectives\n",
    "- List popular languages for Data Science\n",
    "- Identify commonly used libraries\n",
    "- Create tables of tools\n",
    "- Demonstrate arithmetic operations in Python\n",
    "- Convert units using code"
   ]
  },
  {
   "cell_type": "markdown",
   "id": "0ae6cc7a",
   "metadata": {},
   "source": [
    "## Author\n",
    "Brent Vincent Delos Reyes"
   ]
  },
  {
   "cell_type": "markdown",
   "id": "940fc745",
   "metadata": {},
   "source": [
    "## GitHub\n",
    "The notebook will be shared via GitHub as per instructions."
   ]
  },
  {
   "cell_type": "markdown",
   "id": "d98a46f8",
   "metadata": {},
   "source": [
    "## Screenshot\n",
    "A screenshot of the first page of this notebook will be submitted."
   ]
  }
 ],
 "metadata": {},
 "nbformat": 4,
 "nbformat_minor": 5
}
